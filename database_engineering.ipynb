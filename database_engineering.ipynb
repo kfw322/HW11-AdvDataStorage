{
 "cells": [
  {
   "cell_type": "code",
   "execution_count": 1,
   "metadata": {},
   "outputs": [],
   "source": [
    "import pandas as pd\n",
    "import numpy as np\n",
    "import os"
   ]
  },
  {
   "cell_type": "code",
   "execution_count": 2,
   "metadata": {},
   "outputs": [],
   "source": [
    "import sqlalchemy\n",
    "from sqlalchemy import create_engine, MetaData\n",
    "from sqlalchemy.ext.declarative import declarative_base\n",
    "from sqlalchemy import Column, Integer, String, Numeric, Text, Float"
   ]
  },
  {
   "cell_type": "code",
   "execution_count": 3,
   "metadata": {},
   "outputs": [],
   "source": [
    "engine = create_engine(\"sqlite:///hawaii.sqlite\")\n",
    "conn = engine.connect()"
   ]
  },
  {
   "cell_type": "code",
   "execution_count": 4,
   "metadata": {},
   "outputs": [],
   "source": [
    "Base = declarative_base()\n",
    "class Measurements(Base):\n",
    "    __tablename__ = \"measurements\"\n",
    "    \n",
    "    mes_id = Column(Text, primary_key=True)\n",
    "    station = Column(Text)\n",
    "    date = Column(Text)\n",
    "    prcp = Column(Float)\n",
    "    tobs = Column(Integer)\n",
    "    def __repr__(self):\n",
    "        return f\"station={self.station},date={self.date}\"\n",
    "\n"
   ]
  },
  {
   "cell_type": "code",
   "execution_count": 5,
   "metadata": {},
   "outputs": [],
   "source": [
    "class Stations(Base):\n",
    "    __tablename__ = \"stations\"\n",
    "    \n",
    "    station = Column(Text, primary_key=True)\n",
    "    name = Column(Text)\n",
    "    latitude = Column(Float)\n",
    "    longitude = Column(Float)\n",
    "    elevation = Column(Float)\n",
    "    def __repr__(self):\n",
    "        return f\"name={self.name},station={self.station}\"\n",
    "\n"
   ]
  },
  {
   "cell_type": "code",
   "execution_count": 6,
   "metadata": {},
   "outputs": [],
   "source": [
    "Base.metadata.create_all(engine)"
   ]
  },
  {
   "cell_type": "code",
   "execution_count": 7,
   "metadata": {},
   "outputs": [
    {
     "data": {
      "text/plain": [
       "[{'elevation': 3.0,\n",
       "  'latitude': 21.2716,\n",
       "  'longitude': -157.8168,\n",
       "  'name': 'WAIKIKI 717.2, HI US',\n",
       "  'station': 'USC00519397'},\n",
       " {'elevation': 14.6,\n",
       "  'latitude': 21.4234,\n",
       "  'longitude': -157.8015,\n",
       "  'name': 'KANEOHE 838.1, HI US',\n",
       "  'station': 'USC00513117'},\n",
       " {'elevation': 7.0,\n",
       "  'latitude': 21.5213,\n",
       "  'longitude': -157.8374,\n",
       "  'name': 'KUALOA RANCH HEADQUARTERS 886.9, HI US',\n",
       "  'station': 'USC00514830'},\n",
       " {'elevation': 11.9,\n",
       "  'latitude': 21.3934,\n",
       "  'longitude': -157.9751,\n",
       "  'name': 'PEARL CITY, HI US',\n",
       "  'station': 'USC00517948'},\n",
       " {'elevation': 306.6,\n",
       "  'latitude': 21.4992,\n",
       "  'longitude': -158.0111,\n",
       "  'name': 'UPPER WAHIAWA 874.3, HI US',\n",
       "  'station': 'USC00518838'},\n",
       " {'elevation': 19.5,\n",
       "  'latitude': 21.33556,\n",
       "  'longitude': -157.71139,\n",
       "  'name': 'WAIMANALO EXPERIMENTAL FARM, HI US',\n",
       "  'station': 'USC00519523'},\n",
       " {'elevation': 32.9,\n",
       "  'latitude': 21.45167,\n",
       "  'longitude': -157.84888999999995,\n",
       "  'name': 'WAIHEE 837.5, HI US',\n",
       "  'station': 'USC00519281'},\n",
       " {'elevation': 0.9,\n",
       "  'latitude': 21.3152,\n",
       "  'longitude': -157.9992,\n",
       "  'name': 'HONOLULU OBSERVATORY 702.2, HI US',\n",
       "  'station': 'USC00511918'},\n",
       " {'elevation': 152.4,\n",
       "  'latitude': 21.3331,\n",
       "  'longitude': -157.8025,\n",
       "  'name': 'MANOA LYON ARBO 785.2, HI US',\n",
       "  'station': 'USC00516128'}]"
      ]
     },
     "execution_count": 7,
     "metadata": {},
     "output_type": "execute_result"
    }
   ],
   "source": [
    "mdict = pd.read_csv(\"clean_hawaii_measurements.csv\").to_dict(orient='records')\n",
    "mdict\n",
    "sdict = pd.read_csv(\"clean_hawaii_stations.csv\").to_dict(orient='records')\n",
    "sdict"
   ]
  },
  {
   "cell_type": "code",
   "execution_count": 8,
   "metadata": {},
   "outputs": [],
   "source": [
    "metadata = MetaData(bind=engine)\n",
    "metadata.reflect()"
   ]
  },
  {
   "cell_type": "code",
   "execution_count": 9,
   "metadata": {},
   "outputs": [],
   "source": [
    "m_table = sqlalchemy.Table(\"measurements\",metadata,autoload=True)\n",
    "s_table = sqlalchemy.Table(\"stations\",metadata,autoload=True)"
   ]
  },
  {
   "cell_type": "code",
   "execution_count": 10,
   "metadata": {},
   "outputs": [
    {
     "data": {
      "text/plain": [
       "<sqlalchemy.engine.result.ResultProxy at 0x2a5fbb3b550>"
      ]
     },
     "execution_count": 10,
     "metadata": {},
     "output_type": "execute_result"
    }
   ],
   "source": [
    "conn.execute(m_table.delete())\n",
    "conn.execute(s_table.delete())\n",
    "conn.execute(m_table.insert(),mdict)\n",
    "conn.execute(s_table.insert(),sdict)\n"
   ]
  },
  {
   "cell_type": "code",
   "execution_count": 28,
   "metadata": {},
   "outputs": [
    {
     "data": {
      "text/plain": [
       "[('USC00519397', 'WAIKIKI 717.2, HI US', 21.2716, -157.8168, 3.0),\n",
       " ('USC00513117', 'KANEOHE 838.1, HI US', 21.4234, -157.8015, 14.6),\n",
       " ('USC00514830', 'KUALOA RANCH HEADQUARTERS 886.9, HI US', 21.5213, -157.8374, 7.0),\n",
       " ('USC00517948', 'PEARL CITY, HI US', 21.3934, -157.9751, 11.9),\n",
       " ('USC00518838', 'UPPER WAHIAWA 874.3, HI US', 21.4992, -158.0111, 306.6),\n",
       " ('USC00519523', 'WAIMANALO EXPERIMENTAL FARM, HI US', 21.33556, -157.71139, 19.5),\n",
       " ('USC00519281', 'WAIHEE 837.5, HI US', 21.45167, -157.84888999999995, 32.9),\n",
       " ('USC00511918', 'HONOLULU OBSERVATORY 702.2, HI US', 21.3152, -157.9992, 0.9),\n",
       " ('USC00516128', 'MANOA LYON ARBO 785.2, HI US', 21.3331, -157.8025, 152.4)]"
      ]
     },
     "execution_count": 28,
     "metadata": {},
     "output_type": "execute_result"
    }
   ],
   "source": [
    "conn.execute(\"SELECT * FROM stations\").fetchall()"
   ]
  },
  {
   "cell_type": "code",
   "execution_count": null,
   "metadata": {},
   "outputs": [],
   "source": []
  },
  {
   "cell_type": "code",
   "execution_count": null,
   "metadata": {},
   "outputs": [],
   "source": []
  },
  {
   "cell_type": "code",
   "execution_count": null,
   "metadata": {},
   "outputs": [],
   "source": []
  },
  {
   "cell_type": "code",
   "execution_count": null,
   "metadata": {},
   "outputs": [],
   "source": []
  }
 ],
 "metadata": {
  "kernelspec": {
   "display_name": "Python 3",
   "language": "python",
   "name": "python3"
  },
  "language_info": {
   "codemirror_mode": {
    "name": "ipython",
    "version": 3
   },
   "file_extension": ".py",
   "mimetype": "text/x-python",
   "name": "python",
   "nbconvert_exporter": "python",
   "pygments_lexer": "ipython3",
   "version": "3.6.4"
  }
 },
 "nbformat": 4,
 "nbformat_minor": 2
}
